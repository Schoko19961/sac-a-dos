{
 "cells": [
  {
   "cell_type": "code",
   "execution_count": 10,
   "metadata": {},
   "outputs": [],
   "source": [
    "import random"
   ]
  },
  {
   "cell_type": "code",
   "execution_count": 11,
   "metadata": {},
   "outputs": [],
   "source": [
    "class Parametres:\n",
    "\n",
    "    MAX = 10\n",
    "    NB_OBJ = 5\n",
    "    WEIGHT_MAX = 5\n",
    "    WEIGHT_MIN = 1\n",
    "    VALUE_MAX = 9\n",
    "    VALUE_MIN = 1"
   ]
  },
  {
   "cell_type": "code",
   "execution_count": 12,
   "metadata": {},
   "outputs": [],
   "source": [
    "class Object:\n",
    "\n",
    "    def __init__(self, weight = 'x', value = 'x'):\n",
    "        if weight == 'x' and value == 'x':\n",
    "            self.weight = random.randint(Parametres.WEIGHT_MIN, Parametres.WEIGHT_MAX)\n",
    "            self.value = random.randint(Parametres.VALUE_MIN, Parametres.VALUE_MAX)\n",
    "        else : \n",
    "            self.weight = weight\n",
    "            self.value = value\n"
   ]
  },
  {
   "cell_type": "code",
   "execution_count": 26,
   "metadata": {},
   "outputs": [],
   "source": [
    "class Bag:\n",
    "\n",
    "    def __init__(self, objects = [], isIn = []):\n",
    "        if objects == []:\n",
    "\n",
    "            for _ in range(Parametres.NB_OBJ):\n",
    "                objects.append(Object())\n",
    "\n",
    "        self.weights = []\n",
    "        self.values  = []\n",
    "\n",
    "        if isIn == []:\n",
    "            self.isIn = [random.randint(0,1) for _ in range(Parametres.NB_OBJ)]\n",
    "        else:\n",
    "            self.isIn = isIn\n",
    "\n",
    "        for obj in objects:\n",
    "                self.weights.append(obj.weight)\n",
    "                self.values.append(obj.value)\n",
    "        \n",
    "        self.fitness = self.calcul_fitness()\n",
    "\n",
    "    def calcul_fitness(self):\n",
    "        #Pour le calcul du fitness, plus la valeur est petite, plus c'est positif.\n",
    "        weight = 0\n",
    "\n",
    "        for i in range(Parametres.NB_OBJ):\n",
    "            weight += self.weights[i] * self.isIn[i]\n",
    "\n",
    "        return (Parametres.MAX - weight if weight < Parametres.MAX else 10)"
   ]
  },
  {
   "cell_type": "code",
   "execution_count": 33,
   "metadata": {},
   "outputs": [
    {
     "ename": "IndexError",
     "evalue": "list index out of range",
     "output_type": "error",
     "traceback": [
      "\u001b[1;31m---------------------------------------------------------------------------\u001b[0m",
      "\u001b[1;31mIndexError\u001b[0m                                Traceback (most recent call last)",
      "\u001b[1;32mc:\\Users\\killi\\OneDrive\\Bureau\\Ynov\\Réseau_de_Neurones\\sacADos.ipynb Cell 5'\u001b[0m in \u001b[0;36m<module>\u001b[1;34m\u001b[0m\n\u001b[0;32m      <a href='vscode-notebook-cell:/c%3A/Users/killi/OneDrive/Bureau/Ynov/R%C3%A9seau_de_Neurones/sacADos.ipynb#ch0000004?line=0'>1</a>\u001b[0m \u001b[39m#liste_obj = []\u001b[39;00m\n\u001b[0;32m      <a href='vscode-notebook-cell:/c%3A/Users/killi/OneDrive/Bureau/Ynov/R%C3%A9seau_de_Neurones/sacADos.ipynb#ch0000004?line=1'>2</a>\u001b[0m \n\u001b[0;32m      <a href='vscode-notebook-cell:/c%3A/Users/killi/OneDrive/Bureau/Ynov/R%C3%A9seau_de_Neurones/sacADos.ipynb#ch0000004?line=2'>3</a>\u001b[0m \u001b[39m#for i in range(Parametres.NB_OBJ):\u001b[39;00m\n\u001b[0;32m      <a href='vscode-notebook-cell:/c%3A/Users/killi/OneDrive/Bureau/Ynov/R%C3%A9seau_de_Neurones/sacADos.ipynb#ch0000004?line=3'>4</a>\u001b[0m \u001b[39m#    liste_obj.append(Object())\u001b[39;00m\n\u001b[0;32m      <a href='vscode-notebook-cell:/c%3A/Users/killi/OneDrive/Bureau/Ynov/R%C3%A9seau_de_Neurones/sacADos.ipynb#ch0000004?line=4'>5</a>\u001b[0m \u001b[39m#print('#Objects générés')\u001b[39;00m\n\u001b[1;32m----> <a href='vscode-notebook-cell:/c%3A/Users/killi/OneDrive/Bureau/Ynov/R%C3%A9seau_de_Neurones/sacADos.ipynb#ch0000004?line=5'>6</a>\u001b[0m sac1 \u001b[39m=\u001b[39m Bag()\n\u001b[0;32m      <a href='vscode-notebook-cell:/c%3A/Users/killi/OneDrive/Bureau/Ynov/R%C3%A9seau_de_Neurones/sacADos.ipynb#ch0000004?line=6'>7</a>\u001b[0m \u001b[39mprint\u001b[39m(\u001b[39m'\u001b[39m\u001b[39m#Sac Généré\u001b[39m\u001b[39m'\u001b[39m)\n",
      "\u001b[1;32mc:\\Users\\killi\\OneDrive\\Bureau\\Ynov\\Réseau_de_Neurones\\sacADos.ipynb Cell 4'\u001b[0m in \u001b[0;36mBag.__init__\u001b[1;34m(self, objects, isIn)\u001b[0m\n\u001b[0;32m     <a href='vscode-notebook-cell:/c%3A/Users/killi/OneDrive/Bureau/Ynov/R%C3%A9seau_de_Neurones/sacADos.ipynb#ch0000000?line=11'>12</a>\u001b[0m         \u001b[39mself\u001b[39m\u001b[39m.\u001b[39mweights\u001b[39m.\u001b[39mappend(obj\u001b[39m.\u001b[39mweight)\n\u001b[0;32m     <a href='vscode-notebook-cell:/c%3A/Users/killi/OneDrive/Bureau/Ynov/R%C3%A9seau_de_Neurones/sacADos.ipynb#ch0000000?line=12'>13</a>\u001b[0m         \u001b[39mself\u001b[39m\u001b[39m.\u001b[39mvalues\u001b[39m.\u001b[39mappend(obj\u001b[39m.\u001b[39mvalue)\n\u001b[1;32m---> <a href='vscode-notebook-cell:/c%3A/Users/killi/OneDrive/Bureau/Ynov/R%C3%A9seau_de_Neurones/sacADos.ipynb#ch0000000?line=14'>15</a>\u001b[0m \u001b[39mself\u001b[39m\u001b[39m.\u001b[39mfitness \u001b[39m=\u001b[39m \u001b[39mself\u001b[39;49m\u001b[39m.\u001b[39;49mcalcul_fitness()\n",
      "\u001b[1;32mc:\\Users\\killi\\OneDrive\\Bureau\\Ynov\\Réseau_de_Neurones\\sacADos.ipynb Cell 4'\u001b[0m in \u001b[0;36mBag.calcul_fitness\u001b[1;34m(self)\u001b[0m\n\u001b[0;32m     <a href='vscode-notebook-cell:/c%3A/Users/killi/OneDrive/Bureau/Ynov/R%C3%A9seau_de_Neurones/sacADos.ipynb#ch0000000?line=18'>19</a>\u001b[0m weight \u001b[39m=\u001b[39m \u001b[39m0\u001b[39m\n\u001b[0;32m     <a href='vscode-notebook-cell:/c%3A/Users/killi/OneDrive/Bureau/Ynov/R%C3%A9seau_de_Neurones/sacADos.ipynb#ch0000000?line=20'>21</a>\u001b[0m \u001b[39mfor\u001b[39;00m i \u001b[39min\u001b[39;00m \u001b[39mrange\u001b[39m(Parametres\u001b[39m.\u001b[39mNB_OBJ):\n\u001b[1;32m---> <a href='vscode-notebook-cell:/c%3A/Users/killi/OneDrive/Bureau/Ynov/R%C3%A9seau_de_Neurones/sacADos.ipynb#ch0000000?line=21'>22</a>\u001b[0m     weight \u001b[39m+\u001b[39m\u001b[39m=\u001b[39m \u001b[39mself\u001b[39;49m\u001b[39m.\u001b[39;49mweights[i] \u001b[39m*\u001b[39m \u001b[39mself\u001b[39m\u001b[39m.\u001b[39misIn[i]\n\u001b[0;32m     <a href='vscode-notebook-cell:/c%3A/Users/killi/OneDrive/Bureau/Ynov/R%C3%A9seau_de_Neurones/sacADos.ipynb#ch0000000?line=23'>24</a>\u001b[0m \u001b[39mreturn\u001b[39;00m (Parametres\u001b[39m.\u001b[39mMAX \u001b[39m-\u001b[39m weight \u001b[39mif\u001b[39;00m weight \u001b[39m<\u001b[39m Parametres\u001b[39m.\u001b[39mMAX \u001b[39melse\u001b[39;00m \u001b[39m10\u001b[39m)\n",
      "\u001b[1;31mIndexError\u001b[0m: list index out of range"
     ]
    }
   ],
   "source": [
    "#liste_obj = []\n",
    "\n",
    "#for i in range(Parametres.NB_OBJ):\n",
    "#    liste_obj.append(Object())\n",
    "#print('#Objects générés')\n",
    "sac1 = Bag()\n",
    "print('#Sac Généré')"
   ]
  },
  {
   "cell_type": "code",
   "execution_count": null,
   "metadata": {},
   "outputs": [],
   "source": []
  }
 ],
 "metadata": {
  "interpreter": {
   "hash": "b89b5cfaba6639976dc87ff2fec6d58faec662063367e2c229c520fe71072417"
  },
  "kernelspec": {
   "display_name": "Python 3.10.2 64-bit",
   "language": "python",
   "name": "python3"
  },
  "language_info": {
   "codemirror_mode": {
    "name": "ipython",
    "version": 3
   },
   "file_extension": ".py",
   "mimetype": "text/x-python",
   "name": "python",
   "nbconvert_exporter": "python",
   "pygments_lexer": "ipython3",
   "version": "3.10.2"
  },
  "orig_nbformat": 4
 },
 "nbformat": 4,
 "nbformat_minor": 2
}
